{
 "cells": [
  {
   "cell_type": "markdown",
   "id": "306d06aa",
   "metadata": {},
   "source": [
    "# Álgebra linear com o pacote Python NumPy\n",
    "\n",
    "O [NumPy](https://numpy.org/) é um pacote Python que oferece estruturas de dados com características de vetores no $R^n$ e algoritmos para computação científica.  Esta introdução visa a dar os conhecimentos fundamentais do pacote para seu uso posterior em diferentes aplicações.[^1]\n",
    "\n",
    "NumPy opera realizando todas as operações sobre vetores coordenada a coordenada numa operação que denomina [Broadcasting](https://numpy.org/doc/stable/user/basics.broadcasting.html#basics-broadcasting).\n",
    "\n",
    "[^1]: As vantagens de usar NumPy em relação a escrever um código Python puro são mostradas [aqui](https://numpy.org/doc/stable/user/whatisnumpy.html)\n",
    "\n"
   ]
  },
  {
   "cell_type": "markdown",
   "id": "52306c6e",
   "metadata": {},
   "source": [
    "Para usar a biblioteca NumPy, é preciso instalá-la, usando o conda ou o pip.[2^]\n",
    "\n",
    "[2^]:Veja detalhes de instalação [aqui](https://numpy.org/install/).  Depois de instalada, para invocar o NumPy, basta o usar o comando import como mostrado na:\n",
    "\n",
    "**Listagem 1: importando o Numpy**"
   ]
  },
  {
   "cell_type": "code",
   "execution_count": 1,
   "id": "21fe27b5",
   "metadata": {},
   "outputs": [],
   "source": [
    "import numpy as np"
   ]
  },
  {
   "cell_type": "markdown",
   "id": "878845e8",
   "metadata": {},
   "source": [
    "Para citar o uso de NumPy em trabalhos científicos, use a chave Latex seguinte:\n",
    "\n",
    "@Article{         harris2020array,\n",
    "\n",
    " title         = {Array programming with {NumPy}},\n",
    " \n",
    " author        = {Charles R. Harris and K. Jarrod Millman and St{\\'{e}}fan J.\n",
    "                 van der Walt and Ralf Gommers and Pauli Virtanen and David\n",
    "                 Cournapeau and Eric Wieser and Julian Taylor and Sebastian\n",
    "                 Berg and Nathaniel J. Smith and Robert Kern and Matti Picus\n",
    "                 and Stephan Hoyer and Marten H. van Kerkwijk and Matthew\n",
    "                 Brett and Allan Haldane and Jaime Fern{\\'{a}}ndez del\n",
    "                 R{\\'{i}}o and Mark Wiebe and Pearu Peterson and Pierre\n",
    "                 G{\\'{e}}rard-Marchant and Kevin Sheppard and Tyler Reddy and\n",
    "                 Warren Weckesser and Hameer Abbasi and Christoph Gohlke and\n",
    "                 Travis E. Oliphant},\n",
    "                 \n",
    " year          = {2020},\n",
    " \n",
    " month         = sep,\n",
    " \n",
    " journal       = {Nature},\n",
    " \n",
    " volume        = {585},\n",
    " \n",
    " number        = {7825},\n",
    " \n",
    " pages         = {357--362},\n",
    " \n",
    " doi           = {10.1038/s41586-020-2649-2},\n",
    " \n",
    " publisher     = {Springer Science and Business Media {LLC}},\n",
    " \n",
    " url           = {https://doi.org/10.1038/s41586-020-2649-2}\n",
    "}\n",
    "    \n",
    " Para mais detalhes, ver [Citing NumPy](https://numpy.org/citing-numpy/).   "
   ]
  },
  {
   "cell_type": "markdown",
   "id": "1bda5169",
   "metadata": {},
   "source": [
    "\n",
    "## A estrutura de dados fundamental: ndarray\n",
    "\n",
    "Um ndarray é um arranjo multidimensional de valores de mesmo tipo de dado indexados por uma tupla de inteiros não negativos.  As dimensões desta tabela são chamadas de *axes*.\n",
    "\n",
    "\n",
    "Na condição de objeto Python, o ndarray caracteriza-se por ter seus métodos definidos em linguagem compilada (C/C++ ou Fortran) para fins de melhoria de desempenho.\n",
    "\n",
    "A estrutura ndarray possui um tamanho fixo na sua criação, diferindo-a das listas em Python, que podem ser ampliadas ou reduzidas em tempo de execução.\n",
    "\n",
    "Para instanciar um ndarray, utiliza-se a função (método construtor) *np.array(x)* onde x é uma lista Python como mostrado na:\n",
    "\n",
    "**Listagem 2: instanciando um objeto ndarray de um eixo (axis)**"
   ]
  },
  {
   "cell_type": "code",
   "execution_count": 12,
   "id": "5e3617ca",
   "metadata": {},
   "outputs": [
    {
     "name": "stdout",
     "output_type": "stream",
     "text": [
      "O número de eixos do ndarray a é igual a 1\n",
      "O formato do vetor a é (3,)\n"
     ]
    }
   ],
   "source": [
    "# Em termos de álgebra linear, trata-se de um vetor linha 1 X 3\n",
    "import numpy as np\n",
    "a = np.array([1,2,3])\n",
    "print(f\"O número de eixos do ndarray a é igual a {a.ndim}\")\n",
    "print(f'O formato do vetor a é {a.shape}')"
   ]
  },
  {
   "cell_type": "markdown",
   "id": "a8d26da0",
   "metadata": {},
   "source": [
    "**Listagem 3: instanciando um ndarray de dois axes**"
   ]
  },
  {
   "cell_type": "code",
   "execution_count": 14,
   "id": "2b29a83b",
   "metadata": {},
   "outputs": [
    {
     "name": "stdout",
     "output_type": "stream",
     "text": [
      "O número de eixos do ndarray b é igual a 2\n",
      "O formato da matriz b é (2, 3)\n"
     ]
    }
   ],
   "source": [
    "# Em termos de álgebra linear, trata-se de uma matriz de dimensões 2 X 3\n",
    "b = np.array([[1., 0.,0.], [0.,1.,2.]])\n",
    "print(f\"O número de eixos do ndarray b é igual a {b.ndim}\")\n",
    "print(f'O formato da matriz b é {b.shape}')"
   ]
  },
  {
   "cell_type": "markdown",
   "id": "416f7ff9",
   "metadata": {},
   "source": [
    "Os principais atributos de um objeto ndarray são:\n",
    "\n",
    "1. ndarray.ndim - fornece o número de eixos\n",
    "2. ndarray.shape - fornece as dimensões do array\n",
    "3. ndarray.size - número total de elementos do array\n",
    "4. ndarray.dtype - é um objeto contendo o tipo de dado dos elementos do ndarray\n",
    "5. ndarray.itemsize - número de bytes de cada elemento do ndarray\n",
    "6. ndarray.data - região da memória onde estão armazenados os dados do ndarray (buffer de memória)\n",
    "\n",
    "Considere a:\n",
    "\n",
    "**Listagem 4: script para o exemplo do [Quickstart: an example](https://numpy.org/doc/stable/user/quickstart.html#an-example)**"
   ]
  },
  {
   "cell_type": "code",
   "execution_count": 26,
   "id": "126930ae",
   "metadata": {},
   "outputs": [
    {
     "name": "stdout",
     "output_type": "stream",
     "text": [
      "A matriz a é igual a: \n",
      "\n",
      "[[ 0  1  2  3  4]\n",
      " [ 5  6  7  8  9]\n",
      " [10 11 12 13 14]]\n",
      "\n",
      "O formato da matriz a é igual a (3, 5).\n",
      "\n",
      "A matriz a tem 2 axes.\n",
      "\n",
      "O tipo de dados da matriz a é int32\n",
      "\n",
      "O numero de bytes de cada elemento de ndarray a é igual 4\n",
      "\n",
      "O numero de elementos do ndarray a é igual 15\n",
      "\n",
      "O tipo (classe) de a é <class 'numpy.ndarray'>\n"
     ]
    }
   ],
   "source": [
    "import numpy as np\n",
    "\n",
    "a = np.arange(15).reshape(3,5)\n",
    "print(f'A matriz a é igual a: \\n')\n",
    "print(a)\n",
    "print(f'\\nO formato da matriz a é igual a {a.shape}.')\n",
    "print(f'\\nA matriz a tem {a.ndim} axes.')\n",
    "print(f'\\nO tipo de dados da matriz a é {a.dtype.name}')\n",
    "print(f'\\nO numero de bytes de cada elemento de ndarray a é igual {a.itemsize}')\n",
    "print(f'\\nO numero de elementos do ndarray a é igual {a.size}')\n",
    "print(f'\\nO tipo (classe) de a é {type(a)}')\n"
   ]
  },
  {
   "cell_type": "markdown",
   "id": "a37e9b94",
   "metadata": {},
   "source": [
    "**Listagem 5: exemplos de formas alternativas de instanciar ndarrays** "
   ]
  },
  {
   "cell_type": "code",
   "execution_count": 30,
   "id": "949375e3",
   "metadata": {},
   "outputs": [
    {
     "name": "stdout",
     "output_type": "stream",
     "text": [
      "[[1.+0.j 2.+0.j]\n",
      " [3.+0.j 4.+0.j]]\n",
      "[[1.+1.j 2.-3.j]\n",
      " [3.-1.j 4.-5.j]]\n"
     ]
    }
   ],
   "source": [
    "# Instanciando um ndarray de números complexos\n",
    "\n",
    "c = np.array([[1,2], [3,4]], dtype = complex)\n",
    "print(c)\n",
    "\n",
    "d = np.array([[1+1.j,2-3.j],[3-1.j,4-5.j]])\n",
    "print(d)\n",
    "\n"
   ]
  },
  {
   "cell_type": "code",
   "execution_count": 37,
   "id": "794cd6e0",
   "metadata": {},
   "outputs": [
    {
     "name": "stdout",
     "output_type": "stream",
     "text": [
      "(2+2j)\n",
      "\n",
      "\n",
      "[[2.+2.j 3.+1.j]\n",
      " [2.+2.j 3.+1.j]]\n"
     ]
    }
   ],
   "source": [
    "# Observe que se utiliza a notação 2 + 2j nativa de Python\n",
    "\n",
    "e = 2 +2j\n",
    "print(e)\n",
    "print('\\n')\n",
    "f = np.array([[2+2j, 3+1j], [2+2j, 3+1j]], dtype=complex)\n",
    "print(f)"
   ]
  },
  {
   "cell_type": "code",
   "execution_count": 41,
   "id": "7d64d39f",
   "metadata": {},
   "outputs": [
    {
     "name": "stdout",
     "output_type": "stream",
     "text": [
      "[[0. 0. 0. 0.]\n",
      " [0. 0. 0. 0.]\n",
      " [0. 0. 0. 0.]]\n"
     ]
    }
   ],
   "source": [
    "# Contruindo um ndarray de zeros\n",
    "# Observe que é preciso passar uma tupla Python com as dimensões do ndarray de zeros.\n",
    "print(np.zeros((3,4)))\n"
   ]
  },
  {
   "cell_type": "code",
   "execution_count": 42,
   "id": "cd52e2f5",
   "metadata": {},
   "outputs": [
    {
     "name": "stdout",
     "output_type": "stream",
     "text": [
      "[[[1 1 1 1]\n",
      "  [1 1 1 1]\n",
      "  [1 1 1 1]]\n",
      "\n",
      " [[1 1 1 1]\n",
      "  [1 1 1 1]\n",
      "  [1 1 1 1]]]\n"
     ]
    }
   ],
   "source": [
    "# O tipo de dados padrão para ndarrays é float64, mas pode ser alterado com o atributo dtype\n",
    "\n",
    "print(np.ones((2,3,4), dtype = np.int16))"
   ]
  },
  {
   "cell_type": "markdown",
   "id": "0e1f3e06",
   "metadata": {},
   "source": [
    "**Listagem 6: criando uma sequência de números**\n",
    "\n",
    "Para criar um ndarray formado por uma sequência de números , utiliza-se a função np.arange((início, fim, passo)).  Note que a função é o método construtor do ndarray que recebe como parâmetro uma tupla Python com o início, o fim e o passo (distância entre dois elementos do array).\n",
    "\n",
    "Observe também que, como sempre em Python, o último elemento não é incluído."
   ]
  },
  {
   "cell_type": "code",
   "execution_count": 51,
   "id": "d3f76596",
   "metadata": {},
   "outputs": [
    {
     "name": "stdout",
     "output_type": "stream",
     "text": [
      "[10 15 20 25]\n",
      "<class 'numpy.ndarray'>\n"
     ]
    }
   ],
   "source": [
    "z = np.arange(10, 30, 5)\n",
    "print(z)\n",
    "\n",
    "print(type(z))"
   ]
  },
  {
   "cell_type": "code",
   "execution_count": 52,
   "id": "f4c46d6d",
   "metadata": {},
   "outputs": [
    {
     "name": "stdout",
     "output_type": "stream",
     "text": [
      "[0.  0.2 0.4 0.6 0.8 1.  1.2 1.4 1.6 1.8]\n",
      "<class 'numpy.ndarray'>\n"
     ]
    }
   ],
   "source": [
    "z = np.arange(0, 2, 0.2)\n",
    "print(z)\n",
    "print(type(z))"
   ]
  },
  {
   "cell_type": "markdown",
   "id": "360ceaf0",
   "metadata": {},
   "source": [
    "**Observação**\n",
    "\n",
    "Quando se quer ter certeza do número de elementos da sequência usa-se o método construtor linspace (início, fim, número de elementos no ndarray).\n",
    "\n",
    "Note porém que, quando se usa a função linspace como método construtor do ndarray, **não apenas o início é incluído na sequência, mas também o fim é incluído.**"
   ]
  },
  {
   "cell_type": "code",
   "execution_count": 59,
   "id": "a1d9b59d",
   "metadata": {},
   "outputs": [
    {
     "name": "stdout",
     "output_type": "stream",
     "text": [
      "[1.   1.25 1.5  1.75 2.   2.25 2.5  2.75 3.  ]\n"
     ]
    }
   ],
   "source": [
    "z = np.linspace(1,3, 9)\n",
    "print(z)"
   ]
  },
  {
   "cell_type": "markdown",
   "id": "7d735324",
   "metadata": {},
   "source": [
    "**Listagem 7: NumPy tem a sua própria constante $\\pi$**"
   ]
  },
  {
   "cell_type": "code",
   "execution_count": 57,
   "id": "2767c4b7",
   "metadata": {},
   "outputs": [
    {
     "name": "stdout",
     "output_type": "stream",
     "text": [
      "3.141592653589793\n"
     ]
    }
   ],
   "source": [
    "# constante pi de Python\n",
    "import math\n",
    "print(math.pi)"
   ]
  },
  {
   "cell_type": "code",
   "execution_count": 58,
   "id": "6fccf468",
   "metadata": {},
   "outputs": [
    {
     "name": "stdout",
     "output_type": "stream",
     "text": [
      "3.141592653589793\n"
     ]
    }
   ],
   "source": [
    "# constante pi de Numpy\n",
    "print(np.pi)"
   ]
  },
  {
   "cell_type": "markdown",
   "id": "d22010db",
   "metadata": {},
   "source": [
    "**Listagem 8: avaliando uma função em vários pontos**"
   ]
  },
  {
   "cell_type": "code",
   "execution_count": 63,
   "id": "714ec884",
   "metadata": {},
   "outputs": [
    {
     "name": "stdout",
     "output_type": "stream",
     "text": [
      "[ 0.00000000e+00  7.07106781e-01  1.00000000e+00  7.07106781e-01\n",
      "  1.22464680e-16 -7.07106781e-01 -1.00000000e+00 -7.07106781e-01\n",
      " -2.44929360e-16]\n"
     ]
    }
   ],
   "source": [
    "# Avaliando o valor da função seno para ângulos de 0 a 2pi radianos\n",
    "# nos pontos 0, 45, 90, 135, 180, 225, 270, 315 e 360 graus.\n",
    "\n",
    "z = np.linspace(0,2*np.pi, 9)\n",
    "seno = np.sin(z)\n",
    "print(seno)\n",
    "\n",
    "# Note o erro de aproximação decorrente do uso de números de ponto flutuante nos ângulos\n",
    "# 180 graus e 360 graus (cujos senos são iguais a 0).\n"
   ]
  },
  {
   "cell_type": "markdown",
   "id": "67e5fce9",
   "metadata": {},
   "source": [
    "## Operações com ndarrays\n",
    "\n",
    "Matematicamente, ndarrays representam uma generalização a noção de vetor da álgebra linear conhecida como **[tensor](https://pt.wikipedia.org/wiki/Tensor#:~:text=Tensores%20s%C3%A3o%20entidades%20geom%C3%A9tricas%20introduzidas,a%20soma%20e%20o%20produto.)**.\n",
    "\n",
    "Como já dito, as operações (aplicação de funções) com ndarrays se fazem coordenada a coordenada.  Como a adição coordenada a coordenada é trivial, iniciaremos com um exemplo de produto de dois ndarrays.\n",
    "\n",
    "**Listagem 8: produto de ndarrays**\n",
    "\n",
    "\n",
    "\n",
    "\n"
   ]
  },
  {
   "cell_type": "code",
   "execution_count": 64,
   "id": "9cce0bc8",
   "metadata": {},
   "outputs": [
    {
     "name": "stdout",
     "output_type": "stream",
     "text": [
      "[[2 0]\n",
      " [0 4]]\n"
     ]
    }
   ],
   "source": [
    "# Operação de produtos de tensores coordenada a coordenada.\n",
    "\n",
    "A = np.array([[1,1],[0,1]])\n",
    "B = np.array([[2,0],[3,4]])\n",
    "\n",
    "\n",
    "print(A*B) "
   ]
  },
  {
   "cell_type": "markdown",
   "id": "37971581",
   "metadata": {},
   "source": [
    "**Listagem 9: produto matricial**"
   ]
  },
  {
   "cell_type": "code",
   "execution_count": 65,
   "id": "91a4eced",
   "metadata": {},
   "outputs": [
    {
     "data": {
      "text/plain": [
       "array([[5, 4],\n",
       "       [3, 4]])"
      ]
     },
     "execution_count": 65,
     "metadata": {},
     "output_type": "execute_result"
    }
   ],
   "source": [
    "# Usando método ndarray.dot()\n",
    "A.dot(B)\n"
   ]
  },
  {
   "cell_type": "code",
   "execution_count": 67,
   "id": "30620086",
   "metadata": {},
   "outputs": [
    {
     "data": {
      "text/plain": [
       "array([[5, 4],\n",
       "       [3, 4]])"
      ]
     },
     "execution_count": 67,
     "metadata": {},
     "output_type": "execute_result"
    }
   ],
   "source": [
    "# Usando o operador @ como representação (\"açucar sintático\") de ndarray.dot()\n",
    "\n",
    "A @ B"
   ]
  },
  {
   "cell_type": "markdown",
   "id": "65b21d46",
   "metadata": {},
   "source": [
    "**Listagem 10: operando com ndarrays de tipos distintos**\n",
    "\n",
    "Neste caso, o tipo do ndarray resultante será aquele do tipo mais geral possível.  Isto é chamado upcasting.  Veja a seguir"
   ]
  },
  {
   "cell_type": "code",
   "execution_count": 75,
   "id": "0c88731a",
   "metadata": {},
   "outputs": [
    {
     "name": "stdout",
     "output_type": "stream",
     "text": [
      "a = [1 1 1]\n",
      "O tipo de a é int32\n",
      "\n",
      "b = [0.         1.57079633 3.14159265]\n",
      "O tipo de b é float64\n",
      "\n",
      "c = [1 1 1] + [0.         1.57079633 3.14159265] = [1.         2.57079633 4.14159265]\n",
      "float64\n"
     ]
    }
   ],
   "source": [
    "a = np.ones(3, dtype=np.int32)\n",
    "print(f'a = {a}')\n",
    "print(f'O tipo de a é {a.dtype.name}\\n')\n",
    "\n",
    "b = np.linspace(0,np.pi,3)\n",
    "print(f'b = {b}')\n",
    "print(f'O tipo de b é {b.dtype.name}\\n')\n",
    "\n",
    "c = a + b\n",
    "print(f'c = {a} + {b} = {c}')\n",
    "print(c.dtype.name)"
   ]
  },
  {
   "cell_type": "code",
   "execution_count": null,
   "id": "add6d966",
   "metadata": {},
   "outputs": [],
   "source": []
  },
  {
   "cell_type": "markdown",
   "id": "2d0cc956",
   "metadata": {},
   "source": [
    "**Exercícios**\n",
    "\n",
    "Continue fazendo o tutorial [Quickstart Guide](https://numpy.org/doc/stable/user/quickstart.html#universal-functions)"
   ]
  },
  {
   "cell_type": "code",
   "execution_count": null,
   "id": "caacf3cc",
   "metadata": {},
   "outputs": [],
   "source": []
  }
 ],
 "metadata": {
  "kernelspec": {
   "display_name": "Python 3 (ipykernel)",
   "language": "python",
   "name": "python3"
  },
  "language_info": {
   "codemirror_mode": {
    "name": "ipython",
    "version": 3
   },
   "file_extension": ".py",
   "mimetype": "text/x-python",
   "name": "python",
   "nbconvert_exporter": "python",
   "pygments_lexer": "ipython3",
   "version": "3.9.7"
  }
 },
 "nbformat": 4,
 "nbformat_minor": 5
}
